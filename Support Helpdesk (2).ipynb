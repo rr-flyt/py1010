{
 "cells": [
  {
   "cell_type": "code",
   "execution_count": 16,
   "id": "e93be9a6-2da8-4f16-a143-4a6ba5fb7dce",
   "metadata": {},
   "outputs": [
    {
     "name": "stdout",
     "output_type": "stream",
     "text": [
      "Ukedager: ['Mandag', 'Mandag', 'Mandag', 'Mandag', 'Mandag']\n",
      "Klokkeslett: ['08:04:16', '08:04:53', '08:06:31', '08:11:21', '08:20:46']\n",
      "Varighet: ['00:07:12', '00:02:49', '00:08:36', '00:04:34', '00:07:38']\n",
      "Score: [nan, 6.0, nan, nan, nan]\n"
     ]
    }
   ],
   "source": [
    "# Support Dashboard\n",
    "# Prosjektoppgave av Rune Restad PY1010\n",
    "# Du skal her utføre diverse analyser av data som er loggført for supportavdelingen ved\n",
    "# telefonselskapet MORSE. Enhver kundehenvendelse til MORSE blir loggført i en xlsx-fil og du\n",
    "#skal i dette prosjektet jobbe med dataloggen for uke 24. Filen ‘support_uke_24.xlsx’ finner\n",
    "# du sammen med prosjektoppgaven i Canvas under menyen Oppgaver -> Prosjektoppgaven,\n",
    "#og filen er organisert på følgende måte:\n",
    "# Kolonne 1: Ukedag henvendelsen fant sted\n",
    "# Kolonne 2: Klokkeslett kunden tok kontakt med supportavdelingen\n",
    "# Kolonne 3: Samtalens varighet\n",
    "# Kolonne 4: Kundens tilfredshet (skala fra 1-10 hvor 1 indikerer svært misfornøyd og 10\n",
    "# indikerer svært fornøyd).\n",
    "# Merk: kolonne 4 er ikke komplett da mange kunder unnlater å gi tilbakemelding på sin\n",
    "# tilfredshet.\n",
    "\n",
    "# Del a) Skriv et program som leser inn filen ‘support_uke_24.xlsx’ og lagrer data fra kolonne 1\n",
    "# i en array med variablenavn ‘u_dag’, dataen i kolonne 2 lagres i arrayen ‘kl_slett’, data i\n",
    "# kolonne 3 lagres i arrayen ‘varighet’ og dataen i kolonne 4 lagres i arrayen ‘score’. Merk:\n",
    "# filen ‘support_uke_24.xlsx’ må ligge i samme mappe som Python-programmet ditt.\n",
    "\n",
    "# a)\n",
    "import pandas as pd\n",
    "\n",
    "# Les inn data fra Excel-filen\n",
    "df = pd.read_excel('support_uke_24.xlsx')\n",
    "\n",
    "# Lagre kolonner i hver sin variabel\n",
    "u_dag = df.iloc[:, 0].tolist()\n",
    "kl_slett = df.iloc[:, 1].tolist()\n",
    "varighet = df.iloc[:, 2].tolist()\n",
    "score = df.iloc[:, 3].tolist()\n",
    "\n",
    "# Sjekker at det fungerer med print commando\n",
    "print(\"Ukedager:\", u_dag[:5])\n",
    "print(\"Klokkeslett:\", kl_slett[:5])\n",
    "print(\"Varighet:\", varighet[:5])\n",
    "print(\"Score:\", score[:5])\n",
    "\n"
   ]
  },
  {
   "cell_type": "code",
   "execution_count": null,
   "id": "ebd735ba-6609-4b39-b21b-d70162a50b43",
   "metadata": {},
   "outputs": [],
   "source": [
    "# Del b) Skriv et program som finner antall henvendelser for hver de 5 ukedagene. Resultatet\n",
    "# visualiseres ved bruk av et søylediagram (stolpediagram)."
   ]
  },
  {
   "cell_type": "code",
   "execution_count": null,
   "id": "bc0f0b00-f538-43ee-b2da-f9252e8874a8",
   "metadata": {},
   "outputs": [],
   "source": []
  },
  {
   "cell_type": "code",
   "execution_count": 12,
   "id": "08fa6bb5-ee4d-471f-a33f-a04deb937bbc",
   "metadata": {},
   "outputs": [
    {
     "data": {
      "image/png": "[encoded data removed]",
      "text/plain": [
       "<Figure size 800x500 with 1 Axes>"
      ]
     },
     "metadata": {},
     "output_type": "display_data"
    }
   ],
   "source": [
    "u_dag_series = pd.Series(u_dag)\n",
    "henvendelser_per_dag = u_dag_series.value_counts().sort_index()\n",
    "\n",
    "plt.figure(figsize=(8,5))\n",
    "henvendelser_per_dag.plot(kind='bar', color='skyblue')\n",
    "plt.title(\"Antall henvendelser per ukedag\")\n",
    "plt.xlabel(\"Ukedag\")\n",
    "plt.ylabel(\"Antall henvendelser\")\n",
    "plt.tight_layout()\n",
    "plt.show()\n"
   ]
  },
  {
   "cell_type": "code",
   "execution_count": null,
   "id": "6b50c4c2-7815-4dd3-adb4-62779b482d6d",
   "metadata": {},
   "outputs": [],
   "source": [
    "# Del c) Skriv et program som finner minste og lengste samtaletid som er loggført for uke 24.\n",
    "# Svaret skrives til skjerm med informativ tekst."
   ]
  },
  {
   "cell_type": "code",
   "execution_count": 3,
   "id": "74bb0cdc-65be-4892-8572-b80dd882bb79",
   "metadata": {},
   "outputs": [
    {
     "name": "stdout",
     "output_type": "stream",
     "text": [
      "Minste samtaletid: 00:00:59 minutter\n",
      "Lengste samtaletid: 00:11:28 minutter\n"
     ]
    }
   ],
   "source": [
    "min_tid = min(varighet)\n",
    "max_tid = max(varighet)\n",
    "\n",
    "print(f\"Minste samtaletid: {min_tid} minutter\")\n",
    "print(f\"Lengste samtaletid: {max_tid} minutter\")\n"
   ]
  },
  {
   "cell_type": "code",
   "execution_count": null,
   "id": "71fd4f01-4ef4-4b56-871c-0e9c3d6fb157",
   "metadata": {},
   "outputs": [],
   "source": [
    "# Del d) KREVENDE: Skriv et program som regner ut gjennomsnittlig samtaletid basert på alle\n",
    "# henvendelser i uke 24."
   ]
  },
  {
   "cell_type": "code",
   "execution_count": 1,
   "id": "c51267ad-d953-4fb6-99ef-26f97f07af7d",
   "metadata": {},
   "outputs": [
    {
     "name": "stdout",
     "output_type": "stream",
     "text": [
      "Gjennomsnittlig samtaletid: 6.67 minutter\n"
     ]
    }
   ],
   "source": [
    "import pandas as pd\n",
    "import numpy as np\n",
    "from datetime import timedelta\n",
    "\n",
    "# Vi har allerede lastet inn dokumentet:\n",
    "df = pd.read_excel('support_uke_24.xlsx')\n",
    "\n",
    "# Vi henter kolonnen \"Varighet\" fra kolonne C i filen:\n",
    "rå_varighet = df.iloc[:, 2]  # kolonne C = indeks 2\n",
    "\n",
    "# Lager en liste med minutter for at det skal se bedre ut.\n",
    "varighet_i_minutter = []\n",
    "\n",
    "# Benytter for, try/except og if/else funksjonalitet.\n",
    "\n",
    "for verdi in rå_varighet:\n",
    "    try:\n",
    "        if isinstance(verdi, str):\n",
    "            # Konverterer fra tekst til timedelta\n",
    "            t = pd.to_timedelta(verdi)\n",
    "        else:\n",
    "            t = verdi  # allerede timedelta\n",
    "\n",
    "        minutter = t.total_seconds() / 60\n",
    "        varighet_i_minutter.append(minutter)\n",
    "    except Exception as e:\n",
    "        # Hopper over de evt som er ugyldige rader for at programmet skal kunne fungere med dette datasettet også.\n",
    "        print(f\"Hopper over ugyldig verdi: {verdi}\")\n",
    "        continue\n",
    "\n",
    "# Nå regner vi gjennomsnitt på samtalene med if/else funksjonalitet\n",
    "if varighet_i_minutter:\n",
    "    gjennomsnitt = np.mean(varighet_i_minutter)\n",
    "    print(f\"Gjennomsnittlig samtaletid: {gjennomsnitt:.2f} minutter\")\n",
    "else:\n",
    "    print(\"Fant ingen gyldige samtaletider.\")\n",
    "\n",
    "\n"
   ]
  },
  {
   "cell_type": "code",
   "execution_count": null,
   "id": "99148dae-8416-401d-ae73-724fdcd529de",
   "metadata": {},
   "outputs": [],
   "source": [
    "# Del e) Supportvaktene i MORSE er delt inn i 2-timers bolker: kl 08-10, kl 10-12, kl 12-14 og kl\n",
    "# 14-16. Skriv et program som finner det totale antall henvendelser supportavdelingen mottok\n",
    "# for hver av tidsrommene 08-10, 10-12, 12-14 og 14-16 for uke 24. Resultatet visualiseres ved\n",
    "# bruk av et sektordiagram (kakediagram)."
   ]
  },
  {
   "cell_type": "code",
   "execution_count": 5,
   "id": "a482e21e-3fb7-4dd6-a319-c8de5368696a",
   "metadata": {},
   "outputs": [
    {
     "data": {
      "image/png": "[encoded data removed]",
      "text/plain": [
       "<Figure size 640x480 with 1 Axes>"
      ]
     },
     "metadata": {},
     "output_type": "display_data"
    }
   ],
   "source": [
    "from datetime import time\n",
    "\n",
    "# Lag tellere / bolker\n",
    "tidsbolker = {\n",
    "    '08-10': 0,\n",
    "    '10-12': 0,\n",
    "    '12-14': 0,\n",
    "    '14-16': 0\n",
    "}\n",
    "\n",
    "# Gå gjennom alle klokkeslett med for og if/else/elif funksjonalitet\n",
    "\n",
    "for tidspunkt in kl_slett:\n",
    "    if isinstance(tidspunkt, str):  # Hvis klokkeslett er tekst, f.eks. '08:30'\n",
    "        timer = int(tidspunkt.split(':')[0])\n",
    "    else:  # Hvis det er datetime.time-objekt\n",
    "        timer = tidspunkt.hour\n",
    "# Legger til 1 ekstra pr telling\n",
    "    \n",
    "    if 8 <= timer < 10:\n",
    "        tidsbolker['08-10'] += 1\n",
    "    elif 10 <= timer < 12:\n",
    "        tidsbolker['10-12'] += 1\n",
    "    elif 12 <= timer < 14:\n",
    "        tidsbolker['12-14'] += 1\n",
    "    elif 14 <= timer < 16:\n",
    "        tidsbolker['14-16'] += 1\n",
    "\n",
    "# Plot kakediagram\n",
    "plt.pie(tidsbolker.values(), labels=tidsbolker.keys(), autopct='%1.1f%%')\n",
    "plt.title(\"Henvendelser per tidsbolk\")\n",
    "plt.show()\n"
   ]
  },
  {
   "cell_type": "code",
   "execution_count": null,
   "id": "82a20e7e-f3e6-4e05-8a54-fb249ababbc4",
   "metadata": {},
   "outputs": [],
   "source": [
    "# Del f) Kundens tilfredshet loggføres som tall fra 1-10 hvor 1 indikerer svært misfornøyd og\n",
    "# 10 indikerer svært fornøyd. Disse tilbakemeldingene skal så overføres til NPS-systemet (Net\n",
    "# Promoter Score)."
   ]
  },
  {
   "cell_type": "code",
   "execution_count": 5,
   "id": "6f9f4417-7a6a-45bc-821d-a12aa70b1428",
   "metadata": {},
   "outputs": [
    {
     "name": "stdout",
     "output_type": "stream",
     "text": [
      "Net Promoter Score for supportavdelingen er: -40.0\n"
     ]
    }
   ],
   "source": [
    "# Fjern tomme vurderingen slik at de ikke spiller inn:\n",
    "\n",
    "gyldige_scores = [s for s in score if pd.notna(s)]\n",
    "\n",
    "antall = len(gyldige_scores)\n",
    "positive = len([s for s in gyldige_scores if s >= 9])\n",
    "negative = len([s for s in gyldige_scores if s <= 6])\n",
    "\n",
    "prosent_positive = (positive / antall) * 100\n",
    "prosent_negative = (negative / antall) * 100\n",
    "nps = prosent_positive - prosent_negative\n",
    "\n",
    "print(f\"Net Promoter Score for supportavdelingen er: {nps:.1f}\")\n"
   ]
  },
  {
   "cell_type": "code",
   "execution_count": null,
   "id": "203905da-850f-4ffa-893a-74e9e5e4c191",
   "metadata": {},
   "outputs": [],
   "source": []
  }
 ],
 "metadata": {
  "kernelspec": {
   "display_name": "Python 3 (ipykernel)",
   "language": "python",
   "name": "python3"
  },
  "language_info": {
   "codemirror_mode": {
    "name": "ipython",
    "version": 3
   },
   "file_extension": ".py",
   "mimetype": "text/x-python",
   "name": "python",
   "nbconvert_exporter": "python",
   "pygments_lexer": "ipython3",
   "version": "3.12.7"
  }
 },
 "nbformat": 4,
 "nbformat_minor": 5
}
