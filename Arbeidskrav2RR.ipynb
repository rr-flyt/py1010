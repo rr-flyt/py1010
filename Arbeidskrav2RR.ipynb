{
 "cells": [
  {
   "cell_type": "code",
   "execution_count": 1,
   "id": "b49eaa5c-282b-4bc9-b0b9-190a4df5ea54",
   "metadata": {},
   "outputs": [
    {
     "name": "stdin",
     "output_type": "stream",
     "text": [
      "Hvilket år er du født?  1977\n"
     ]
    },
    {
     "name": "stdout",
     "output_type": "stream",
     "text": [
      "Da har du fylt/eller fyller 47\n"
     ]
    }
   ],
   "source": [
    "\"\"\"\n",
    "Arbeidskrav 2 av Rune Restad - Oppgave 1\n",
    "\"\"\"\n",
    "alder = int(input('Hvilket år er du født? ') )\n",
    "\n",
    "print(\"Da har du fylt/eller fyller\", 2024-alder) "
   ]
  },
  {
   "cell_type": "code",
   "execution_count": 2,
   "id": "9ade20c1-0810-4b79-8d6d-411b4f62d38b",
   "metadata": {},
   "outputs": [
    {
     "data": {
      "text/plain": [
       "'Oppgave 2'"
      ]
     },
     "execution_count": 2,
     "metadata": {},
     "output_type": "execute_result"
    }
   ],
   "source": [
    "\"\"\"Oppgave 2\"\"\""
   ]
  },
  {
   "cell_type": "code",
   "execution_count": 3,
   "id": "bec2ce86-260a-4c70-8872-cbe034f42f80",
   "metadata": {},
   "outputs": [
    {
     "name": "stdout",
     "output_type": "stream",
     "text": [
      "Velkommen til pizzakalkulatoren\n"
     ]
    },
    {
     "name": "stdin",
     "output_type": "stream",
     "text": [
      "Skriv inn antall elever: 21\n"
     ]
    },
    {
     "name": "stdout",
     "output_type": "stream",
     "text": [
      "Kommer det 21 elever, trenger man å kjøpe 6 pizzaer.\n"
     ]
    }
   ],
   "source": [
    "print(\"Velkommen til pizzakalkulatoren\")\n",
    "antall_elever = int(input('Skriv inn antall elever:' ))\n",
    "antall_pizzaer = int(antall_elever / 4) + (1 if antall_elever % 4 != 0 else 0)\n",
    "print(\"Kommer det\", antall_elever, \"elever, trenger man å kjøpe\", antall_pizzaer, \"pizzaer.\")"
   ]
  },
  {
   "cell_type": "code",
   "execution_count": 4,
   "id": "4891b8a3-527e-41b9-be9b-532813cab7b8",
   "metadata": {},
   "outputs": [
    {
     "data": {
      "text/plain": [
       "'Oppgave 3'"
      ]
     },
     "execution_count": 4,
     "metadata": {},
     "output_type": "execute_result"
    }
   ],
   "source": [
    "\"\"\"Oppgave 3\"\"\""
   ]
  },
  {
   "cell_type": "code",
   "execution_count": 6,
   "id": "694dac7e-8c73-4b55-b6fa-c3ad850649e5",
   "metadata": {},
   "outputs": [
    {
     "name": "stdin",
     "output_type": "stream",
     "text": [
      "Skriv inn antall grader du vil konvertere til radianer:  90\n"
     ]
    },
    {
     "name": "stdout",
     "output_type": "stream",
     "text": [
      "Gradene 90.0 tilsvarer 1.57 radianer.\n",
      "Har du andre du vil konvertere?\n"
     ]
    }
   ],
   "source": [
    "import numpy as np\n",
    "\n",
    "def grader_til_radianer(v_grad):\n",
    "    \"\"\"\n",
    "    Konvertering av grader til radianer\n",
    "    \"\"\"\n",
    "    v_rad = v_grad * np.pi / 180\n",
    "    return v_rad\n",
    "\n",
    "v_grad = float(input(\"Skriv inn antall grader du vil konvertere til radianer: \"))\n",
    "v_rad = grader_til_radianer(v_grad)  # Bruk funksjonen til å regne ut radianer\n",
    "avrundet_tall = round(v_rad, 2)  # Begrens desimalene til 2\n",
    "\n",
    "print(f\"Gradene {v_grad} tilsvarer {avrundet_tall} radianer.\")\n",
    "print(\"Har du andre du vil konvertere?\")"
   ]
  },
  {
   "cell_type": "code",
   "execution_count": null,
   "id": "9a436dc1-5927-4452-814f-61e49fa71ed4",
   "metadata": {},
   "outputs": [],
   "source": [
    "\"\"\"Oppgave 4\"\"\""
   ]
  },
  {
   "cell_type": "code",
   "execution_count": null,
   "id": "4a60a902-2c0f-478f-a659-90d240637b03",
   "metadata": {},
   "outputs": [],
   "source": [
    "\"\"\"Dictionary oppg a\"\"\"\n",
    "land = {\n",
    "    \"Norge\": {\"Hovedstad\": \"Oslo\", \"Befolkning\": 0.634},\n",
    "    \"England\": {\"Hovedstad\": \"London\", \"Befolkning\": 8.982},\n",
    "    \"Frankrike\": {\"Hovedstad\": \"Paris\", \"Befolkning\": 2.161},\n",
    "    \"Italia\": {\"Hovedstad\": \"Roma\", \"Befolkning\": 2.873},\n",
    "}\n",
    "\n",
    "print(land)\n"
   ]
  },
  {
   "cell_type": "code",
   "execution_count": null,
   "id": "d0801ded-e51b-486e-8791-75d137a1b048",
   "metadata": {},
   "outputs": [],
   "source": [
    "\"\"\"Dictionary oppg b\"\"\"\n",
    "land = {\n",
    "    \"Norge\": {\"Hovedstad\": \"Oslo\", \"Befolkning\": 0.634},\n",
    "    \"England\": {\"Hovedstad\": \"London\", \"Befolkning\": 8.982},\n",
    "    \"Frankrike\": {\"Hovedstad\": \"Paris\", \"Befolkning\": 2.161},\n",
    "    \"Italia\": {\"Hovedstad\": \"Roma\", \"Befolkning\": 2.873},\n",
    "}\n",
    "bruker_input = input(\"Hvilket land ønsker du info fra?: \")\n",
    "\n",
    "if bruker_input in land:\n",
    "    hovedstad = land[bruker_input][\"Hovedstad\"]\n",
    "    befolkning = land[bruker_input][\"Befolkning\"]\n",
    "    print(f\"{hovedstad} er hovedstaden i {bruker_input} og det er {befolkning} mill. innbyggere i {hovedstad}.\")\n",
    "else:\n",
    "    print(\"Dessverre, vi har ingen data om\", bruker_input,)"
   ]
  },
  {
   "cell_type": "code",
   "execution_count": 24,
   "id": "f9e3ed68-1ee2-4fc7-909e-32443e27a394",
   "metadata": {},
   "outputs": [
    {
     "name": "stdin",
     "output_type": "stream",
     "text": [
      "Skriv inn navnet på et nytt land:  Finland\n",
      "Skriv inn hovedstaden i Finland:  Helsinki\n",
      "Skriv inn antall millioner innbyggere i Helsinki:  4.333\n"
     ]
    },
    {
     "name": "stdout",
     "output_type": "stream",
     "text": [
      "Finland er lagt til.\n",
      "Oppdatert land-liste: {'Norge': {'Hovedstad': 'Oslo', 'Befolkning': 0.634}, 'England': {'Hovedstad': 'London', 'Befolkning': 8.982}, 'Frankrike': {'Hovedstad': 'Paris', 'Befolkning': 2.161}, 'Italia': {'Hovedstad': 'Roma', 'Befolkning': 2.873}, 'Finland': {'Hovedstad': 'Helsinki', 'Befolkning': 4.333}}\n"
     ]
    }
   ],
   "source": [
    "\"\"\"Dictionary oppg c\"\"\"\n",
    "land = {\n",
    "    \"Norge\": {\"Hovedstad\": \"Oslo\", \"Befolkning\": 0.634},\n",
    "    \"England\": {\"Hovedstad\": \"London\", \"Befolkning\": 8.982},\n",
    "    \"Frankrike\": {\"Hovedstad\": \"Paris\", \"Befolkning\": 2.161},\n",
    "    \"Italia\": {\"Hovedstad\": \"Roma\", \"Befolkning\": 2.873},\n",
    "}\n",
    "nytt_land = input(\"Skriv inn navnet på et nytt land: \")\n",
    "\n",
    "if nytt_land in land:\n",
    "    print(f\"{nytt_land} finnes allerede i listen.\")\n",
    "else:\n",
    "    hovedstad = input(f\"Skriv inn hovedstaden i {nytt_land}: \")\n",
    "    befolkning = float(input(f\"Skriv inn antall millioner innbyggere i {hovedstad}: \"))\n",
    "    land[nytt_land] = {\"Hovedstad\": hovedstad, \"Befolkning\": befolkning}\n",
    "    print(f\"{nytt_land} er lagt til.\")\n",
    "    print(f\"Oppdatert land-liste: {land}\")"
   ]
  },
  {
   "cell_type": "code",
   "execution_count": 8,
   "id": "a62b2dff-8ec6-47b9-bc74-304f0b174bbe",
   "metadata": {},
   "outputs": [
    {
     "name": "stdin",
     "output_type": "stream",
     "text": [
      "Hva er verdien for grunnlinjen: 4\n",
      "Hva er høyden: 3\n"
     ]
    },
    {
     "name": "stdout",
     "output_type": "stream",
     "text": [
      "Arealet av figuren er: 12.283185307179586\n",
      "Den ytre omkretsen av figuren er: 14.283185307179586\n"
     ]
    }
   ],
   "source": [
    "\"\"\"Oppgave 5\"\"\"\n",
    "import math\n",
    "\n",
    "def Beregning_av_areal_og_omkrets (a, b):\n",
    "    radius = a / 2\n",
    "    \n",
    "    areal_trekant = (a * b) / 2\n",
    "    areal_halvsirkel = (math.pi * radius ** 2) / 2\n",
    "    totalt_areal = areal_trekant + areal_halvsirkel\n",
    "    \n",
    "    hypotenus= math.sqrt(a**2 + b**2)\n",
    "    omkrets_halvsirkel = math.pi * radius\n",
    "    total_omkrets = hypotenus + b + omkrets_halvsirkel\n",
    "    \n",
    "    return totalt_areal, total_omkrets\n",
    "\n",
    "a = float(input(\"Hva er verdien for grunnlinjen:\"))\n",
    "b = float(input(\"Hva er høyden:\"))\n",
    "\n",
    "areal, omkrets = Beregning_av_areal_og_omkrets (a, b)\n",
    "\n",
    "print(\"Arealet av figuren er:\", areal)\n",
    "print(\"Den ytre omkretsen av figuren er:\", omkrets)"
   ]
  },
  {
   "cell_type": "code",
   "execution_count": 29,
   "id": "9c7d902f-b88a-4acf-a9d4-c13eead9c811",
   "metadata": {},
   "outputs": [
    {
     "data": {
      "image/png": "[encoded data removed]",
      "text/plain": [
       "<Figure size 1000x1000 with 1 Axes>"
      ]
     },
     "metadata": {},
     "output_type": "display_data"
    },
    {
     "data": {
      "text/plain": [
       "'Arbeidskrav avsluttet. Takk for meg. Rune.'"
      ]
     },
     "execution_count": 29,
     "metadata": {},
     "output_type": "execute_result"
    }
   ],
   "source": [
    "\"\"\"Oppgave 6\"\"\"\n",
    "import numpy as np\n",
    "import matplotlib.pyplot as plt\n",
    "\n",
    "def f(x):\n",
    "   \n",
    "   return -x**2 - 5\n",
    "\n",
    "x = np.linspace(-10, 10, 200)\n",
    "\n",
    "y = f(x)\n",
    "\n",
    "plt.figure(figsize=(10, 10))\n",
    "plt.title(\"Graf av funksjonen, Oppg 6, arbeidskrav 2\")\n",
    "plt.plot(x, y, color=\"red\")\n",
    "plt.axhline(0, color=\"black\", linewidth=0.5, linestyle=\"-\") \n",
    "plt.axvline(0, color=\"black\", linewidth=0.5, linestyle=\"-\")  \n",
    "plt.grid(alpha=0.3)\n",
    "plt.show()\n",
    "\n",
    "\"\"\"Arbeidskrav avsluttet. Takk for meg.\"\"\""
   ]
  },
  {
   "cell_type": "code",
   "execution_count": null,
   "id": "f37f0e0a-5c69-496c-a097-e7a4cd6c9916",
   "metadata": {},
   "outputs": [],
   "source": []
  }
 ],
 "metadata": {
  "kernelspec": {
   "display_name": "Python 3 (ipykernel)",
   "language": "python",
   "name": "python3"
  },
  "language_info": {
   "codemirror_mode": {
    "name": "ipython",
    "version": 3
   },
   "file_extension": ".py",
   "mimetype": "text/x-python",
   "name": "python",
   "nbconvert_exporter": "python",
   "pygments_lexer": "ipython3",
   "version": "3.12.7"
  }
 },
 "nbformat": 4,
 "nbformat_minor": 5
}
